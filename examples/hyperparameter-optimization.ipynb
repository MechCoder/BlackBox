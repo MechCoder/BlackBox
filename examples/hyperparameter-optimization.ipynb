{
 "cells": [
  {
   "cell_type": "markdown",
   "metadata": {},
   "source": [
    "# Tuning a scikit-learn estimator with `skopt`\n",
    "\n",
    "Gilles Louppe, July 2016 <br />\n",
    "Katie Malone, August 2016"
   ]
  },
  {
   "cell_type": "code",
   "execution_count": 1,
   "metadata": {
    "collapsed": true
   },
   "outputs": [],
   "source": [
    "%matplotlib inline\n",
    "import numpy as np\n",
    "import matplotlib.pyplot as plt"
   ]
  },
  {
   "cell_type": "markdown",
   "metadata": {},
   "source": [
    "## Problem statement\n",
    "\n",
    "Tuning the hyper-parameters of a machine learning model is often carried out using an exhaustive exploration of (a subset of) the space all hyper-parameter configurations (e.g., using `sklearn.model_selection.GridSearchCV`), which often results in a very time consuming operation. \n",
    "\n",
    "In this notebook, we illustrate how to couple `gp_minimize` with sklearn's estimators to tune hyper-parameters using sequential model-based optimisation, hopefully resulting in equivalent or better solutions, but within less evaluations."
   ]
  },
  {
   "cell_type": "markdown",
   "metadata": {},
   "source": [
    "## Objective "
   ]
  },
  {
   "cell_type": "markdown",
   "metadata": {},
   "source": [
    "The first step is to define the objective function we want to minimize, in this case the cross-validation mean absolute error of a gradient boosting regressor over the Boston dataset, as a function of its hyper-parameters:"
   ]
  },
  {
   "cell_type": "code",
   "execution_count": 2,
   "metadata": {
    "collapsed": false
   },
   "outputs": [],
   "source": [
    "from sklearn.datasets import load_boston\n",
    "from sklearn.ensemble import GradientBoostingRegressor\n",
    "from sklearn.model_selection import cross_val_score\n",
    "\n",
    "boston = load_boston()\n",
    "X, y = boston.data, boston.target\n",
    "n_features = X.shape[1]\n",
    "reg = GradientBoostingRegressor(n_estimators=50, random_state=0)\n",
    "\n",
    "def objective(params):\n",
    "    max_depth, learning_rate, max_features, min_samples_split, min_samples_leaf = params\n",
    "\n",
    "    reg.set_params(max_depth=max_depth,\n",
    "                   learning_rate=learning_rate,\n",
    "                   max_features=max_features,\n",
    "                   min_samples_split=min_samples_split, \n",
    "                   min_samples_leaf=min_samples_leaf)\n",
    "\n",
    "    return -np.mean(cross_val_score(reg, X, y, cv=5, n_jobs=-1,\n",
    "                                    scoring=\"neg_mean_absolute_error\"))"
   ]
  },
  {
   "cell_type": "markdown",
   "metadata": {},
   "source": [
    "Next, we need to define the bounds of the dimensions of the search space we want to explore, and (optionally) the starting point:"
   ]
  },
  {
   "cell_type": "code",
   "execution_count": 3,
   "metadata": {
    "collapsed": false
   },
   "outputs": [],
   "source": [
    "space  = [(1, 5),                           # max_depth\n",
    "          (10**-5, 10**-1, \"log-uniform\"),  # learning_rate\n",
    "          (1, n_features),                  # max_features\n",
    "          (2, 30),                          # min_samples_split\n",
    "          (1, 30)]                          # min_samples_leaf\n",
    "\n",
    "x0 = [3, 0.01, 6, 2, 1]"
   ]
  },
  {
   "cell_type": "markdown",
   "metadata": {},
   "source": [
    "## Optimize all the things!"
   ]
  },
  {
   "cell_type": "markdown",
   "metadata": {},
   "source": [
    "With these two pieces, we are now ready for sequential model-based optimisation. Here we use gaussian process-based optimisation."
   ]
  },
  {
   "cell_type": "code",
   "execution_count": 4,
   "metadata": {
    "collapsed": false
   },
   "outputs": [
    {
     "data": {
      "text/plain": [
       "'Best score=2.9307'"
      ]
     },
     "execution_count": 4,
     "metadata": {},
     "output_type": "execute_result"
    }
   ],
   "source": [
    "from skopt import gp_minimize\n",
    "res_gp = gp_minimize(objective, space, x0=x0, n_calls=50, random_state=0, n_random_starts=0)\n",
    "\n",
    "\"Best score=%.4f\" % res_gp.fun"
   ]
  },
  {
   "cell_type": "code",
   "execution_count": 5,
   "metadata": {
    "collapsed": false
   },
   "outputs": [
    {
     "name": "stdout",
     "output_type": "stream",
     "text": [
      "Best parameters:\n",
      "- max_depth=4\n",
      "- learning_rate=0.096450\n",
      "- max_features=10\n",
      "- min_samples_split=30\n",
      "- min_samples_leaf=2\n"
     ]
    }
   ],
   "source": [
    "print(\"\"\"Best parameters:\n",
    "- max_depth=%d\n",
    "- learning_rate=%.6f\n",
    "- max_features=%d\n",
    "- min_samples_split=%d\n",
    "- min_samples_leaf=%d\"\"\" % (res_gp.x[0], res_gp.x[1], \n",
    "                            res_gp.x[2], res_gp.x[3], \n",
    "                            res_gp.x[4]))"
   ]
  },
  {
   "cell_type": "markdown",
   "metadata": {},
   "source": [
    "## Part 2: Tuning a scikit-learn pipeline with `skopt`"
   ]
  },
  {
   "cell_type": "markdown",
   "metadata": {},
   "source": [
    "Scikit-learn objects (transformers, estimators) are often not used singly, but instead chained together into a <a href=\"http://scikit-learn.org/stable/modules/generated/sklearn.pipeline.Pipeline.html\">pipeline</a>.  When that happens, there can be several different sets of hyperparameters to examine, one for each object.  In the same way that `GridSearchCV` can be applied to a pipeline to tune the hyperparameters of several objects at once, we can do a more efficient search (this example uses GPs) over more than one scikit-learn object.\n",
    "\n",
    "A common technique to deal with high-dimensional data is to do some feature-selection before using your tree-based models. Here we use the mutual information feature selector to tune the number of features to input into the gradient booster. An advantage being that it can handle both discrete and continuous features"
   ]
  },
  {
   "cell_type": "code",
   "execution_count": 6,
   "metadata": {
    "collapsed": true
   },
   "outputs": [],
   "source": [
    "from functools import partial\n",
    "from sklearn.pipeline import Pipeline\n",
    "from sklearn.feature_selection import SelectKBest, mutual_info_regression\n",
    "\n",
    "mutual_info_regression = partial(mutual_info_regression, discrete_features=[3, 7])\n",
    "skb = SelectKBest(mutual_info_regression, k=5)\n",
    "\n",
    "reg_pipe = GradientBoostingRegressor(n_estimators=50, random_state=0)\n",
    "pipe = Pipeline([('skb', skb), ('reg', reg_pipe)])"
   ]
  },
  {
   "cell_type": "markdown",
   "metadata": {},
   "source": [
    "### Defining the search space\n",
    "\n",
    "Our parameter space has dimensions for the k parameter of SelectKBest, as well as several parameters of the GradientBoostingRegressor. We start with the same point as without the pipeline so that the comparison is valid."
   ]
  },
  {
   "cell_type": "code",
   "execution_count": 7,
   "metadata": {
    "collapsed": true
   },
   "outputs": [],
   "source": [
    "pipe_space  = [(1, n_features),                  # n_features of SelectKBest\n",
    "               (1, 5),                           # max_depth of GBR\n",
    "               (10**-5, 10**-1, \"log-uniform\"),  # learning_rate of GBR\n",
    "               (1, 20),                          # max_features of GBR\n",
    "               (2, 30),                          # min_samples_split of GBR\n",
    "               (1, 30)]                          # min_samples_leaf of GBR\n",
    "\n",
    "\n",
    "pipe_x0 = [n_features] + x0   # optional starting point"
   ]
  },
  {
   "cell_type": "markdown",
   "metadata": {},
   "source": [
    "The updated objective function (which I've named `objective_pipe`) is very similar to the objective function that we've had before, except now there are two places where parameters get set--we're changing the parameters of both `skb` and `reg` at the same time."
   ]
  },
  {
   "cell_type": "code",
   "execution_count": 8,
   "metadata": {
    "collapsed": false
   },
   "outputs": [],
   "source": [
    "def objective_pipe(params):\n",
    "    k, max_depth,\\\n",
    "    learning_rate, max_features,\\\n",
    "    min_samples_split, min_samples_leaf = params\n",
    "    \n",
    "    # If the max_features returned by the minimization objective\n",
    "    # is greater than k\n",
    "    max_features = min(max_features, k)\n",
    "\n",
    "    # set number of features to select\n",
    "    pipe.set_params(skb__k=k)\n",
    "\n",
    "    # set decision tree classifier parameters\n",
    "    pipe.set_params(reg__max_depth=max_depth,\n",
    "                    reg__learning_rate=learning_rate,\n",
    "                    reg__max_features=max_features,\n",
    "                    reg__min_samples_split=min_samples_split,\n",
    "                    reg__min_samples_leaf=min_samples_leaf)\n",
    "\n",
    "    error = -np.mean(cross_val_score(pipe, X, y, cv=5, n_jobs=-1,\n",
    "                                     scoring=\"neg_mean_absolute_error\"))\n",
    "    return error"
   ]
  },
  {
   "cell_type": "markdown",
   "metadata": {},
   "source": [
    "### Optimize all the things, again!\n",
    "\n",
    "Again, things are analagous with the example above, except we're running with the pipeline-specific objective function and parameter options."
   ]
  },
  {
   "cell_type": "code",
   "execution_count": 9,
   "metadata": {
    "collapsed": false
   },
   "outputs": [
    {
     "name": "stdout",
     "output_type": "stream",
     "text": [
      "Best score=2.9727\n",
      "Best parameters:\n",
      "    - k=8\n",
      "    - max_depth=3\n",
      "    - learning_rate=0.092913\n",
      "    - max_features=5\n",
      "    - min_samples_split=23\n",
      "    - min_samples_leaf=5\n"
     ]
    }
   ],
   "source": [
    "import warnings\n",
    "warnings.filterwarnings(\"ignore\") # this minimize call issues a lot of warnings--quiet them\n",
    "                                  # associated scikit-learn issue #6746\n",
    "\n",
    "pipe_res_gp = gp_minimize(objective_pipe, pipe_space, x0=pipe_x0, n_calls=50, random_state=0)\n",
    "print(\"Best score=%.4f\" % pipe_res_gp.fun)\n",
    "print(\"\"\"Best parameters:\n",
    "    - k=%d\n",
    "    - max_depth=%d\n",
    "    - learning_rate=%.6f\n",
    "    - max_features=%d\n",
    "    - min_samples_split=%d\n",
    "    - min_samples_leaf=%d\"\"\" % (pipe_res_gp.x[0], pipe_res_gp.x[1],\n",
    "                                pipe_res_gp.x[2], min(pipe_res_gp.x[3], pipe_res_gp.x[0]),\n",
    "                                pipe_res_gp.x[4], pipe_res_gp.x[5]))"
   ]
  },
  {
   "cell_type": "markdown",
   "metadata": {},
   "source": [
    "## Convergence plot"
   ]
  },
  {
   "cell_type": "markdown",
   "metadata": {},
   "source": [
    "Let us now compare the convergence of the regressor with and without the pipeline using the `plot_convergence` utility."
   ]
  },
  {
   "cell_type": "code",
   "execution_count": 11,
   "metadata": {
    "collapsed": false
   },
   "outputs": [
    {
     "data": {
      "image/png": "[encoded data removed]",
      "text/plain": [
       "<matplotlib.figure.Figure at 0x7fb559d1a4e0>"
      ]
     },
     "metadata": {},
     "output_type": "display_data"
    }
   ],
   "source": [
    "from skopt.plots import plot_convergence\n",
    "\n",
    "plot_convergence((\"gp_optimize\", res_gp),\n",
    "                 (\"gp_optimize_w_minfo\", pipe_res_gp));"
   ]
  },
  {
   "cell_type": "markdown",
   "metadata": {
    "collapsed": true
   },
   "source": [
    "So, interestingly, our pipelines do not seem to do much better than the regressors themselves. This could mean that there is enough data to prevent the model from overfitting, hence we do not gain a lot by doing feature selection."
   ]
  }
 ],
 "metadata": {
  "kernelspec": {
   "display_name": "Python 3",
   "language": "python",
   "name": "python3"
  },
  "language_info": {
   "codemirror_mode": {
    "name": "ipython",
    "version": 3
   },
   "file_extension": ".py",
   "mimetype": "text/x-python",
   "name": "python",
   "nbconvert_exporter": "python",
   "pygments_lexer": "ipython3",
   "version": "3.4.3"
  },
  "widgets": {
   "state": {},
   "version": "1.1.2"
  }
 },
 "nbformat": 4,
 "nbformat_minor": 0
}
