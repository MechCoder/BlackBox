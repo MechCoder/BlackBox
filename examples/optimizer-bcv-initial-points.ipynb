{
 "cells": [
  {
   "cell_type": "markdown",
   "metadata": {},
   "source": [
    "# How to provide intial points to the Optimizer and BayesSearchCV class\n",
    "\n",
    "Iaroslav Shcherbatyi, June 2018."
   ]
  },
  {
   "cell_type": "code",
   "execution_count": 1,
   "metadata": {},
   "outputs": [],
   "source": [
    "import numpy as np\n",
    "np.random.seed(123)\n",
    "\n",
    "%matplotlib inline\n",
    "import matplotlib.pyplot as plt"
   ]
  },
  {
   "cell_type": "markdown",
   "metadata": {},
   "source": [
    "## Problem statement\n",
    "\n",
    "Sometimes for your black box optimization problem $$x^* = \\arg \\min_{x \\in X} f(x)$$ you either have a bunch of points $x_i \\in X, i = 1...k$ that you want to evaluate first because you have a good reason to think they will result in good objective values, or you already have a few points $x_j \\in X, j = 1...m$ for which you already have the values of the objective $f(x_j) \\in \\mathbb{R}$ and you would like to use them to initialize your optimizer.\n"
   ]
  },
  {
   "cell_type": "markdown",
   "metadata": {},
   "source": [
    "## Providing initial points for the `Optimizer` to be evaluated\n",
    "\n",
    "For that, use `x0` argument of the optimizer class constructor. An example is given below."
   ]
  },
  {
   "cell_type": "code",
   "execution_count": 16,
   "metadata": {},
   "outputs": [
    {
     "name": "stdout",
     "output_type": "stream",
     "text": [
      "Parallel mode:\n",
      "Suggested points: [[0.0], [0.5], [1.0], [0.043422101727152]]\n",
      "Sequencial mode:\n",
      "Suggested point [0.0]\n",
      "Suggested point [0.5]\n",
      "Suggested point [1.0]\n",
      "Suggested point [0.5652137360964778]\n",
      "Suggested point [0.05901570160283677]\n"
     ]
    }
   ],
   "source": [
    "from skopt import Optimizer\n",
    "opt = Optimizer(dimensions=[(0.0, 1.0)], x0=[[0.0], [0.5], [1.0]])\n",
    "\n",
    "print(\"Parallel mode:\")\n",
    "\n",
    "# you can use parallel interface\n",
    "# notice that first the 3 initial points are provided\n",
    "print(\"Suggested points:\", opt.ask(4))\n",
    "\n",
    "opt = Optimizer(dimensions=[(0.0, 1.0)], x0=[[0.0], [0.5], [1.0]])\n",
    "\n",
    "print(\"Sequential mode:\")\n",
    "\n",
    "# or sequencial - it all works!\n",
    "for i in range(5):\n",
    "    r = opt.ask()\n",
    "    opt.tell(r, i/2.0)\n",
    "    print('Suggested point', r)"
   ]
  },
  {
   "cell_type": "markdown",
   "metadata": {},
   "source": [
    "**Important**: specifying `x0` does not change the number of points that the algorithm will try at random. To adjust  this number, set the `n_initial_points` accordingly. That is, the total number of initialization iterations including `x0` is `n_initial_points + len(x0)`."
   ]
  },
  {
   "cell_type": "markdown",
   "metadata": {},
   "source": [
    "## Two ways to provide already evaluated points to `Optimizer`\n",
    "\n",
    "In some situations, you already have some objective values already evaluated, and you would like to use those to \"bootstrap\" your algorithm. One way is to simply `tell` these points to `Optimizer` instance as it is instantiated, like in the cell below:"
   ]
  },
  {
   "cell_type": "code",
   "execution_count": 23,
   "metadata": {},
   "outputs": [
    {
     "data": {
      "text/plain": [
       "          fun: 0.0\n",
       "    func_vals: array([0. , 0.1])\n",
       "       models: []\n",
       " random_state: <mtrand.RandomState object at 0x7f85980f2bd0>\n",
       "        space: Space([Real(low=0.0, high=1.0, prior='uniform', transform='normalize')])\n",
       "        specs: None\n",
       "            x: [0.0]\n",
       "      x_iters: [[0.0], [0.5]]"
      ]
     },
     "execution_count": 23,
     "metadata": {},
     "output_type": "execute_result"
    }
   ],
   "source": [
    "from skopt import Optimizer\n",
    "\n",
    "opt = Optimizer(dimensions=[(0.0, 1.0)])\n",
    "\n",
    "opt.tell(x=[[0.0], [0.5]], y=[0.0, 0.1])"
   ]
  },
  {
   "cell_type": "markdown",
   "metadata": {},
   "source": [
    "Another way is to provide the initialization points via the `xy0` property of Optimizer constructor. This way you do not need an extra call to the `tell` function."
   ]
  },
  {
   "cell_type": "code",
   "execution_count": 16,
   "metadata": {},
   "outputs": [
    {
     "data": {
      "text/plain": [
       "<skopt.optimizer.optimizer.Optimizer at 0x7f6865cec9b0>"
      ]
     },
     "execution_count": 16,
     "metadata": {},
     "output_type": "execute_result"
    }
   ],
   "source": [
    "from skopt import Optimizer\n",
    "\n",
    "Optimizer(dimensions=[(0.0, 1.0)], xy0=[\n",
    "    [[0.0], 0.0],\n",
    "    [[1.0], 0.1],\n",
    "])"
   ]
  },
  {
   "cell_type": "markdown",
   "metadata": {},
   "source": [
    "You can also combine both, so that you provide some points which are already evaluated, and the ones that are to be evaluated:"
   ]
  },
  {
   "cell_type": "code",
   "execution_count": 2,
   "metadata": {},
   "outputs": [
    {
     "name": "stdout",
     "output_type": "stream",
     "text": [
      "[[0.5], [0.7], [0.038396889140708386], [0.7224627817380277], [0.5105514975437424]]\n"
     ]
    }
   ],
   "source": [
    "from skopt import Optimizer\n",
    "\n",
    "opt = Optimizer(dimensions=[(0.0, 1.0)], \n",
    "        xy0=[\n",
    "            [[0.0], 0.0],\n",
    "            [[1.0], 0.1],\n",
    "        ],\n",
    "        x0=[\n",
    "            [0.5],\n",
    "            [0.7]\n",
    "        ]\n",
    ")\n",
    "\n",
    "print(opt.ask(5))"
   ]
  },
  {
   "cell_type": "markdown",
   "metadata": {},
   "source": [
    "## Specifying initial points for `BayesSearchCV`\n",
    "\n",
    "You can set the `optimizer_kwargs` to specify which parameters of your pipeline the optimizer should try first. For this, you need to use a few helper functions from `skopt` package."
   ]
  },
  {
   "cell_type": "code",
   "execution_count": 3,
   "metadata": {},
   "outputs": [
    {
     "name": "stdout",
     "output_type": "stream",
     "text": [
      "C= 0.2 gamma= 0.1\n",
      "C= 0.2 gamma= 0.1\n",
      "C= 0.2 gamma= 0.1\n",
      "C= 0.4 gamma= 0.2\n",
      "C= 0.4 gamma= 0.2\n",
      "C= 0.4 gamma= 0.2\n",
      "C= 3.857733300809835 gamma= 0.27385219988077025\n",
      "C= 3.857733300809835 gamma= 0.27385219988077025\n",
      "C= 3.857733300809835 gamma= 0.27385219988077025\n",
      "C= 7.870432808673247 gamma= 0.18827444863361564\n",
      "C= 7.870432808673247 gamma= 0.18827444863361564\n",
      "C= 7.870432808673247 gamma= 0.18827444863361564\n",
      "C= 1.1523854167021892 gamma= 1.4253617857743606\n",
      "C= 1.1523854167021892 gamma= 1.4253617857743606\n",
      "C= 1.1523854167021892 gamma= 1.4253617857743606\n",
      "C= 6.50979320286485 gamma= 4.140545264744949\n",
      "C= 6.50979320286485 gamma= 4.140545264744949\n",
      "C= 6.50979320286485 gamma= 4.140545264744949\n",
      "C= 7.870432808673247 gamma= 0.18827444863361564\n"
     ]
    },
    {
     "data": {
      "text/plain": [
       "BayesSearchCV(cv=3, error_score='raise',\n",
       "       estimator=MyModel(C=1.0, cache_size=200, class_weight=None, coef0=0.0,\n",
       "    decision_function_shape='ovr', degree=3, gamma='auto', kernel='rbf',\n",
       "    max_iter=-1, probability=False, random_state=None, shrinking=True,\n",
       "    tol=0.001, verbose=False),\n",
       "       fit_params=None, iid=True, n_iter=6, n_jobs=1, n_points=1,\n",
       "       optimizer_kwargs={'x0': [[0.2, 0.1], [0.4, 0.2]]},\n",
       "       pre_dispatch='2*n_jobs', random_state=None, refit=True,\n",
       "       return_train_score=False, scoring=None,\n",
       "       search_spaces={'C': (0.1, 10.0), 'gamma': (0.1, 10.0)}, verbose=0)"
      ]
     },
     "execution_count": 3,
     "metadata": {},
     "output_type": "execute_result"
    }
   ],
   "source": [
    "from skopt import BayesSearchCV\n",
    "from skopt.utils import dimensions_aslist\n",
    "\n",
    "from sklearn.svm import SVC\n",
    "from sklearn.datasets import load_iris\n",
    "\n",
    "x0 = [\n",
    "    {'C': 0.2, 'gamma': 0.1},\n",
    "    {'C': 0.4, 'gamma': 0.2}\n",
    "]\n",
    "\n",
    "x0 = [dimensions_aslist(v) for v in x0]\n",
    "\n",
    "# this class is simply used to print the values provided to the class\n",
    "class MyModel(SVC):\n",
    "    def fit(self, *args, **kwargs):\n",
    "        print('C=', self.C, 'gamma=', self.gamma)\n",
    "        super(MyModel, self).fit(*args, **kwargs)\n",
    "\n",
    "X, y = load_iris(True)\n",
    "\n",
    "bcv = BayesSearchCV(\n",
    "    estimator=MyModel(),\n",
    "    search_spaces={\n",
    "        'C': (0.1, 10.0),\n",
    "        'gamma': (0.1, 10.0),\n",
    "    },\n",
    "    n_iter=6,\n",
    "    optimizer_kwargs={\n",
    "        'x0': x0,  # initialization done here!\n",
    "    },\n",
    "    cv=3  # note that 3 folds are used for cross - validation, hence output is repeated 3 times\n",
    ")\n",
    "\n",
    "bcv.fit(X, y)"
   ]
  }
 ],
 "metadata": {
  "kernelspec": {
   "display_name": "Python 3",
   "language": "python",
   "name": "python3"
  },
  "language_info": {
   "codemirror_mode": {
    "name": "ipython",
    "version": 3
   },
   "file_extension": ".py",
   "mimetype": "text/x-python",
   "name": "python",
   "nbconvert_exporter": "python",
   "pygments_lexer": "ipython3",
   "version": "3.5.2"
  }
 },
 "nbformat": 4,
 "nbformat_minor": 1
}
