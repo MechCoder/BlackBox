{
 "cells": [
  {
   "cell_type": "markdown",
   "metadata": {
    "deletable": true,
    "editable": true
   },
   "source": [
    "# Scikit-learn hyperparameter search wrapper\n",
    "\n",
    "Iaroslav Shcherbatyi, Tim Head and Gilles Louppe. June 2017."
   ]
  },
  {
   "cell_type": "markdown",
   "metadata": {
    "deletable": true,
    "editable": true
   },
   "source": [
    "## Introduction\n",
    "\n",
    "This example assumes basic familiarity with [scikit-learn](http://scikit-learn.org/stable/index.html). \n",
    "\n",
    "Search for parameters of machine learning models that result in best cross-validation performance is necessary in almost all practical cases to get a model with best generalization estimate. A standard approach in scikit-learn is using `GridSearchCV` class, which takes a set of values for every parameter to try, and simply enumerates all combinations of parameter values. The complexity of such search grows exponentially with addition of new parameters. A more scalable approach is using `RandomizedSearchCV`, which however does not take advantage of the structure of a search space.\n",
    "\n",
    "Scikit-optimize provides a drop in replacement for `GridSearchCV`, which utilizes Bayesian Optimization where a predictive model reffered to as \"surrogate\" is used to model the search space and utilized in order to arrive at good parameter values combination as soon as possible.\n",
    "\n",
    "Note: for a manual hyperparameter optimization example, see \"Hyperparameter Optimization\" notebook.\n",
    "\n",
    "## Minimal example\n",
    " \n",
    "A minimal example of optimizing hyperparameters of SVC (Support Vector machine Classifier) is given below.\n"
   ]
  },
  {
   "cell_type": "code",
   "execution_count": 11,
   "metadata": {
    "collapsed": false,
    "deletable": true,
    "editable": true
   },
   "outputs": [
    {
     "name": "stdout",
     "output_type": "stream",
     "text": [
      "val. score: 0.983667409057\n",
      "test score: 0.982222222222\n"
     ]
    }
   ],
   "source": [
    "from skopt import BayesSearchCV\n",
    "from sklearn.datasets import load_digits\n",
    "from sklearn.svm import SVC\n",
    "from sklearn.model_selection import train_test_split\n",
    "\n",
    "X, y = load_digits(10, True)\n",
    "X_train, X_test, y_train, y_test = train_test_split(X, y, train_size=0.75, random_state=0)\n",
    "\n",
    "# log-uniform: understand as search over p = exp(x) by varying x\n",
    "opt = BayesSearchCV(\n",
    "    SVC(),\n",
    "    {\n",
    "        'C': (1e-6, 1e+6, 'log-uniform'),  \n",
    "        'gamma': (1e-6, 1e+1, 'log-uniform'),\n",
    "        'degree': (1, 8),  # integer valued parameter\n",
    "        'kernel': ['linear', 'poly', 'rbf'],  # categorical parameter\n",
    "    },\n",
    "    n_iter=32\n",
    ")\n",
    "\n",
    "opt.fit(X_train, y_train)\n",
    "\n",
    "print(\"val. score: %s\" % opt.best_score_)\n",
    "print(\"test score: %s\" % opt.score(X_test, y_test))"
   ]
  },
  {
   "cell_type": "markdown",
   "metadata": {
    "deletable": true,
    "editable": true
   },
   "source": [
    "## Advanced example \n",
    "\n",
    "In practice, one wants to enumerate over multiple predictive model classes, with different search spaces and number of evaluations per class. An example of such search over parameters of Linear SVM, Kernel SVM and decision trees is given below. "
   ]
  },
  {
   "cell_type": "code",
   "execution_count": 1,
   "metadata": {
    "collapsed": false,
    "deletable": true,
    "editable": true
   },
   "outputs": [
    {
     "name": "stdout",
     "output_type": "stream",
     "text": [
      "val. score: 0.985894580549\n",
      "test score: 0.982222222222\n"
     ]
    }
   ],
   "source": [
    "from skopt import BayesSearchCV\n",
    "from skopt.space import Real, Categorical, Integer\n",
    "\n",
    "from sklearn.datasets import load_iris, load_digits\n",
    "from sklearn.svm import SVC, LinearSVC\n",
    "from sklearn.tree import DecisionTreeClassifier\n",
    "from sklearn.pipeline import Pipeline\n",
    "from sklearn.model_selection import train_test_split\n",
    "\n",
    "X, y = load_digits(10, True)\n",
    "X_train, X_test, y_train, y_test = train_test_split(X, y, train_size=0.75, random_state=0)\n",
    "\n",
    "# used to try different model classes\n",
    "pipe = Pipeline([\n",
    "    ('model', SVC())\n",
    "])\n",
    "\n",
    "# single categorical value of 'model' parameter is used  to set the model class\n",
    "lin_search = {\n",
    "    'model': Categorical([LinearSVC()]),\n",
    "    'model__C': Real(1e-6, 1e+6, prior='log-uniform'),\n",
    "}\n",
    "\n",
    "dtc_search = {\n",
    "    'model': Categorical([DecisionTreeClassifier()]),\n",
    "    'model__max_depth': Integer(1,32),\n",
    "    'model__min_samples_split': Real(1e-3, 1.0, prior='log-uniform'),\n",
    "}\n",
    "\n",
    "svc_search = {\n",
    "    'model': Categorical([SVC()]),\n",
    "    'model__C': Real(1e-6, 1e+6, prior='log-uniform'),\n",
    "    'model__gamma': Real(1e-6, 1e+1, prior='log-uniform'),\n",
    "    'model__degree': Integer(1,8),\n",
    "    'model__kernel': Categorical(['linear', 'poly', 'rbf']),\n",
    "}\n",
    "\n",
    "opt = BayesSearchCV(\n",
    "    pipe,\n",
    "    [(lin_search, 16), (dtc_search, 24), (svc_search, 32)], # (parameter space, # of evaluations)\n",
    ")\n",
    "\n",
    "opt.fit(X_train, y_train)\n",
    "\n",
    "print(\"val. score: %s\" % opt.best_score_)\n",
    "print(\"test score: %s\" % opt.score(X_test, y_test))"
   ]
  },
  {
   "cell_type": "markdown",
   "metadata": {
    "deletable": true,
    "editable": true
   },
   "source": [
    "## Iterative search utilizing `step` function\n",
    "\n",
    "A single call to `step` function of the `BayesSearchCV` instance allows to perform partial search for at most `n_jobs` points in parallel. This allows to use custom stopping criterions and to pickle a parameter search class instance to the file for recovery in case of failures of any sort or in case computations need to be transported to a different machine. \n",
    "\n",
    "An example usage is shown below. "
   ]
  },
  {
   "cell_type": "code",
   "execution_count": 2,
   "metadata": {
    "collapsed": false,
    "deletable": true,
    "editable": true,
    "scrolled": true
   },
   "outputs": [
    {
     "name": "stdout",
     "output_type": "stream",
     "text": [
      "0 0.0955555555556\n",
      "1 0.0955555555556\n",
      "2 0.94\n",
      "3 0.94\n",
      "4 0.94\n",
      "5 0.94\n",
      "6 0.975555555556\n",
      "7 0.975555555556\n",
      "8 0.975555555556\n",
      "9 0.971111111111\n",
      "10 0.991111111111\n",
      "11 0.993333333333\n",
      "12 0.993333333333\n",
      "13 0.993333333333\n",
      "14 0.993333333333\n",
      "15 0.993333333333\n"
     ]
    }
   ],
   "source": [
    "from skopt.space import Real, Categorical, Integer\n",
    "from skopt import BayesSearchCV\n",
    "\n",
    "from sklearn.datasets import load_digits\n",
    "from sklearn.svm import SVC\n",
    "from sklearn.model_selection import train_test_split\n",
    "\n",
    "X, y = load_digits(10, True)\n",
    "X_train, X_test, y_train, y_test = train_test_split(X, y, train_size=0.75, random_state=0)\n",
    "\n",
    "opt = BayesSearchCV(SVC())\n",
    "\n",
    "# add instance of a search space \n",
    "opt.add_spaces('space_1', {\n",
    "    'C': Real(1e-6, 1e+6, prior='log-uniform'),\n",
    "    'gamma': Real(1e-6, 1e+1, prior='log-uniform'),\n",
    "})\n",
    "\n",
    "for i in range(16):\n",
    "    opt.step(X_train, y_train, 'space_1')\n",
    "    # save the model or use custom stopping criterion here\n",
    "    # model is updated after every step\n",
    "    # ...\n",
    "    score = opt.score(X_test, y_test)\n",
    "    print(i, score)"
   ]
  }
 ],
 "metadata": {
  "kernelspec": {
   "display_name": "Python 3",
   "language": "python",
   "name": "python3"
  },
  "language_info": {
   "codemirror_mode": {
    "name": "ipython",
    "version": 3
   },
   "file_extension": ".py",
   "mimetype": "text/x-python",
   "name": "python",
   "nbconvert_exporter": "python",
   "pygments_lexer": "ipython3",
   "version": "3.5.2"
  }
 },
 "nbformat": 4,
 "nbformat_minor": 0
}
