{
 "cells": [
  {
   "cell_type": "markdown",
   "metadata": {},
   "source": [
    "# Optimizing convolutional neural networks with scikit-optimize\n",
    "\n",
    "The goal of this example is to train a classifier that can label handwritten digits from the MNIST dataset.\n",
    "\n",
    "First, we define a convolutional neural network using the TensorFlow framework.\n",
    "\n",
    "We then use `scikit-optimize` to find a set of hyperparameters that gives good results.\n",
    "\n",
    "To simplify the construction and training of the neural network, we can use the `learn` and `layers` contrib modules from TensorFlow."
   ]
  },
  {
   "cell_type": "code",
   "execution_count": 1,
   "metadata": {
    "collapsed": false
   },
   "outputs": [],
   "source": [
    "%matplotlib inline\n",
    "import numpy as np\n",
    "import matplotlib.pyplot as plt\n",
    "from sklearn import metrics\n",
    "from sklearn.gaussian_process import GaussianProcessRegressor\n",
    "import tensorflow as tf\n",
    "from tensorflow.contrib import learn\n",
    "from tensorflow.contrib import layers"
   ]
  },
  {
   "cell_type": "markdown",
   "metadata": {},
   "source": [
    "We import the MNIST dataset and take a look at one of the labeled images"
   ]
  },
  {
   "cell_type": "code",
   "execution_count": 2,
   "metadata": {
    "collapsed": false
   },
   "outputs": [
    {
     "name": "stdout",
     "output_type": "stream",
     "text": [
      "Extracting MNIST-data/train-images-idx3-ubyte.gz\n",
      "Extracting MNIST-data/train-labels-idx1-ubyte.gz\n",
      "Extracting MNIST-data/t10k-images-idx3-ubyte.gz\n",
      "Extracting MNIST-data/t10k-labels-idx1-ubyte.gz\n",
      "> Digit is labeled as 3\n"
     ]
    },
    {
     "data": {
      "text/plain": [
       "<matplotlib.image.AxesImage at 0x7f3840430cf8>"
      ]
     },
     "execution_count": 2,
     "metadata": {},
     "output_type": "execute_result"
    },
    {
     "data": {
      "image/png": "[encoded data removed]",
      "text/plain": [
       "<matplotlib.figure.Figure at 0x7f38404c7ba8>"
      ]
     },
     "metadata": {},
     "output_type": "display_data"
    }
   ],
   "source": [
    "digits = learn.datasets.mnist.load_mnist()\n",
    "X_train, y_train = digits.train.images, digits.train.labels\n",
    "X_test, y_test = digits.test.images, digits.test.labels\n",
    "\n",
    "print('> Digit is labeled as {}'.format(y_train[1]))\n",
    "plt.matshow(np.reshape(X_train[1, :], (28, 28)), cmap='gray')"
   ]
  },
  {
   "cell_type": "markdown",
   "metadata": {},
   "source": [
    "Now, we define the convolutional neural network.\n",
    "We make sure to construct, train, and evaluate it inside a single function, which we will pass as an objective function to `sciki-optimize`."
   ]
  },
  {
   "cell_type": "code",
   "execution_count": 3,
   "metadata": {
    "collapsed": false
   },
   "outputs": [],
   "source": [
    "def tensorflow_objective(params):\n",
    "    learning_rate, batch_size, num_layers, num_channels, kernel_size, dense_size, dropout = params\n",
    "    print('Params: {}'.format(params))\n",
    "    # Used to decide whether we should use dropout\n",
    "    is_training = True\n",
    "    \n",
    "    # This function defines the custom TensorFlow model\n",
    "    def conv_model(X, y):\n",
    "        # Reshape into batches of 28x28 pixel images with 1 channel\n",
    "        X = tf.reshape(X, [-1, 28, 28, 1])\n",
    "        # Build multiple convolutional layers with max-pooling\n",
    "        for _ in range(num_layers):\n",
    "            k = kernel_size\n",
    "            X = layers.conv2d(X, num_channels, [k, k], activation_fn=tf.nn.relu)\n",
    "            X = tf.nn.max_pool(X, [1, k, k, 1], [1, k, k, 1], padding='SAME')\n",
    "\n",
    "        # Add a large dense layer\n",
    "        X = layers.flatten(X)\n",
    "        X = layers.fully_connected(X, int(dense_size), activation_fn=tf.nn.relu)\n",
    "        # Add dropout layer\n",
    "        if is_training:\n",
    "            X = tf.nn.dropout(X, dropout)\n",
    "        # Add readout layer\n",
    "        X = layers.fully_connected(X, 10, activation_fn=tf.nn.softmax)\n",
    "        # Calculate loss\n",
    "        cross_entropy = tf.reduce_mean(-tf.reduce_sum(y* tf.log(X), reduction_indices=1))\n",
    "        return X, cross_entropy\n",
    "\n",
    "    # The tf.contrib.learn package provides a scikit-learn\n",
    "    # compatible API for training TensorFlow models,\n",
    "    # which makes it easy to train and evaluate the model.\n",
    "    clf = learn.TensorFlowEstimator(\n",
    "        model_fn=conv_model,\n",
    "        n_classes=10,\n",
    "        steps=5000,\n",
    "        learning_rate=learning_rate,\n",
    "        batch_size=batch_size,\n",
    "        optimizer='Adagrad',\n",
    "    )\n",
    "\n",
    "    clf.fit(X_train, y_train)\n",
    "    is_training = False\n",
    "    score =  metrics.accuracy_score(clf.predict(X_test), y_test)\n",
    "    print('Accuracy: {}'.format(score))\n",
    "    return -score\n",
    "\n",
    "# Disable warnings\n",
    "import logging\n",
    "logger = logging.getLogger('tensorflow')\n",
    "logger.setLevel(logging.ERROR)"
   ]
  },
  {
   "cell_type": "markdown",
   "metadata": {},
   "source": [
    "Now that the model is defined, we can use `scikit-optimize` to find good hyperparameters."
   ]
  },
  {
   "cell_type": "code",
   "execution_count": null,
   "metadata": {
    "collapsed": false
   },
   "outputs": [
    {
     "name": "stdout",
     "output_type": "stream",
     "text": [
      "Params: [0.1, 32, 2, 32, 2, 512, 0.9]\n",
      "Accuracy: 0.9761\n",
      "Params: [0.044303752452182647, 118, 2, 35, 2, 806, 0.77481278151973654]\n",
      "Accuracy: 0.9769\n",
      "Params: [0.13981961408994042, 55, 1, 35, 4, 744, 0.87905247837090594]\n"
     ]
    }
   ],
   "source": [
    "from skopt import gp_minimize\n",
    "\n",
    "reg = GaussianProcessRegressor(alpha=1e-1)\n",
    "space  = [\n",
    "          (10**-3, 1, 'log-uniform'),  # learning_rate\n",
    "          (16, 128),                   # batch_size\n",
    "          (1, 3),                      # num_layers\n",
    "          (16, 64),                    # num_channels\n",
    "          (2, 4),                      # kernel_size\n",
    "          (256, 1024),                 # dense_size\n",
    "          (0.6, 1.0, 'uniform'),       # dropout probability\n",
    "         ]\n",
    "\n",
    "x0 = [0.1, 32, 2, 32, 2, 512, 0.9]\n",
    "res_gp = gp_minimize(tensorflow_objective, space, x0=x0, n_calls=20, random_state=0)\n",
    "\n",
    "'Best accuracy: {}'.format(-res_gp.fun)"
   ]
  }
 ],
 "metadata": {
  "anaconda-cloud": {},
  "kernelspec": {
   "display_name": "Python [tf]",
   "language": "python",
   "name": "Python [tf]"
  },
  "language_info": {
   "codemirror_mode": {
    "name": "ipython",
    "version": 3
   },
   "file_extension": ".py",
   "mimetype": "text/x-python",
   "name": "python",
   "nbconvert_exporter": "python",
   "pygments_lexer": "ipython3",
   "version": "3.5.2"
  }
 },
 "nbformat": 4,
 "nbformat_minor": 0
}
